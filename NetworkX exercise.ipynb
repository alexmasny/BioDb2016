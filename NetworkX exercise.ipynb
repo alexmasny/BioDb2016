{
 "cells": [
  {
   "cell_type": "markdown",
   "metadata": {},
   "source": [
    "# NetworkX exercise "
   ]
  },
  {
   "cell_type": "code",
   "execution_count": 1,
   "metadata": {
    "collapsed": false
   },
   "outputs": [],
   "source": [
    "%matplotlib inline\n",
    "import networkx as nx\n",
    "import vis_bel\n",
    "import os\n",
    "import pickle\n",
    "import imp\n",
    "import numpy as np\n",
    "import itertools as itt"
   ]
  },
  {
   "cell_type": "code",
   "execution_count": 2,
   "metadata": {
    "collapsed": true
   },
   "outputs": [],
   "source": [
    "base = os.environ['BUG_FREE_EUREKA_BASE']\n",
    "path_networkx_AD_pickled =os.path.join(base,'data','exercise05','networkx.graph.AD.pickled')"
   ]
  },
  {
   "cell_type": "markdown",
   "metadata": {},
   "source": [
    "## Loading Alzheimer's disease network into networkX graph with pickle"
   ]
  },
  {
   "cell_type": "code",
   "execution_count": 3,
   "metadata": {
    "collapsed": false
   },
   "outputs": [],
   "source": [
    "graph_AD = pickle.load(open(path_networkx_AD_pickled,'rb'))"
   ]
  },
  {
   "cell_type": "code",
   "execution_count": 4,
   "metadata": {
    "collapsed": false
   },
   "outputs": [
    {
     "data": {
      "text/plain": [
       "networkx.classes.multidigraph.MultiDiGraph"
      ]
     },
     "execution_count": 4,
     "metadata": {},
     "output_type": "execute_result"
    }
   ],
   "source": [
    "type(graph_AD)"
   ]
  },
  {
   "cell_type": "markdown",
   "metadata": {},
   "source": [
    "Here some words about [pickle](https://docs.python.org/3/library/pickle.html)"
   ]
  },
  {
   "cell_type": "markdown",
   "metadata": {},
   "source": [
    "### Explore"
   ]
  },
  {
   "cell_type": "code",
   "execution_count": 5,
   "metadata": {
    "collapsed": false
   },
   "outputs": [
    {
     "data": {
      "text/plain": [
       "(11927, 11927, 11927)"
      ]
     },
     "execution_count": 5,
     "metadata": {},
     "output_type": "execute_result"
    }
   ],
   "source": [
    "len(graph_AD), len(graph_AD.nodes()), graph_AD.number_of_nodes()  # number of nodes"
   ]
  },
  {
   "cell_type": "code",
   "execution_count": 6,
   "metadata": {
    "collapsed": false
   },
   "outputs": [
    {
     "data": {
      "text/plain": [
       "59408"
      ]
     },
     "execution_count": 6,
     "metadata": {},
     "output_type": "execute_result"
    }
   ],
   "source": [
    "graph_AD.number_of_edges() # number of nodes"
   ]
  },
  {
   "cell_type": "code",
   "execution_count": 7,
   "metadata": {
    "collapsed": false
   },
   "outputs": [
    {
     "data": {
      "text/plain": [
       "{2: {0: {'Subgraph': ('Non-amyloidogenic pathway', 'Gamma secretase pathway'),\n",
       "   'citation': ('Other', 'Connectors', '123'),\n",
       "   'evidence': 'The statements inside this citation is included to connect two entity types or triples, which will exist as islands/subnetworks in the big model.',\n",
       "   'object_activity': 'act',\n",
       "   'rel': 'decreases'},\n",
       "  1: {'DiseaseState': ('Mild AD',),\n",
       "   'FDASTATUS': ('Phase 3',),\n",
       "   'Subgraph': ('Notch pathway', 'Gamma secretase pathway'),\n",
       "   'citation': ('PubMed', 'Curr Med Chem. 2011;18(35):5430-47', '22087836'),\n",
       "   'evidence': 'gamma-Secretase inhibitor believed to be associated with the inhibition of the cleavage of Notch, a transmembrane receptor involved in regulating cell-fate decisions.',\n",
       "   'object_activity': 'pep',\n",
       "   'rel': 'decreases'}},\n",
       " 1828: {0: {'DiseaseState': ('Mild AD',),\n",
       "   'FDASTATUS': ('Phase 3',),\n",
       "   'Subgraph': ('Notch pathway', 'Gamma secretase pathway'),\n",
       "   'citation': ('PubMed', 'Curr Med Chem. 2011;18(35):5430-47', '22087836'),\n",
       "   'evidence': 'gamma-Secretase inhibitor believed to be associated with the inhibition of the cleavage of Notch, a transmembrane receptor involved in regulating cell-fate decisions.',\n",
       "   'rel': 'decreases'}}}"
      ]
     },
     "execution_count": 7,
     "metadata": {},
     "output_type": "execute_result"
    }
   ],
   "source": [
    "graph_AD[1] # node 1 connections with edge information"
   ]
  },
  {
   "cell_type": "code",
   "execution_count": 8,
   "metadata": {
    "collapsed": false
   },
   "outputs": [
    {
     "data": {
      "text/plain": [
       "dict_keys([2, 1828])"
      ]
     },
     "execution_count": 8,
     "metadata": {},
     "output_type": "execute_result"
    }
   ],
   "source": [
    "graph_AD[1].keys() # nodes ids connected to node 1 "
   ]
  },
  {
   "cell_type": "code",
   "execution_count": 9,
   "metadata": {
    "collapsed": false
   },
   "outputs": [
    {
     "data": {
      "text/plain": [
       "dict_keys([0, 1])"
      ]
     },
     "execution_count": 9,
     "metadata": {},
     "output_type": "execute_result"
    }
   ],
   "source": [
    "graph_AD[1][2].keys()\n",
    "# edge between these both"
   ]
  },
  {
   "cell_type": "code",
   "execution_count": 10,
   "metadata": {
    "collapsed": false
   },
   "outputs": [
    {
     "data": {
      "text/plain": [
       "{'Subgraph': ('Non-amyloidogenic pathway', 'Gamma secretase pathway'),\n",
       " 'citation': ('Other', 'Connectors', '123'),\n",
       " 'evidence': 'The statements inside this citation is included to connect two entity types or triples, which will exist as islands/subnetworks in the big model.',\n",
       " 'object_activity': 'act',\n",
       " 'rel': 'decreases'}"
      ]
     },
     "execution_count": 10,
     "metadata": {},
     "output_type": "execute_result"
    }
   ],
   "source": [
    "graph_AD[1][2][0].keys()\n",
    "graph_AD[1][2][0]"
   ]
  },
  {
   "cell_type": "code",
   "execution_count": 11,
   "metadata": {
    "collapsed": false
   },
   "outputs": [
    {
     "data": {
      "text/plain": [
       "'decreases'"
      ]
     },
     "execution_count": 11,
     "metadata": {},
     "output_type": "execute_result"
    }
   ],
   "source": [
    "graph_AD[1][2][0].get('rel')"
   ]
  },
  {
   "cell_type": "code",
   "execution_count": 12,
   "metadata": {
    "collapsed": false
   },
   "outputs": [
    {
     "data": {
      "text/plain": [
       "[1, 2]"
      ]
     },
     "execution_count": 12,
     "metadata": {},
     "output_type": "execute_result"
    }
   ],
   "source": [
    "graph_AD.nodes()[:2] # all nodes"
   ]
  },
  {
   "cell_type": "code",
   "execution_count": 13,
   "metadata": {
    "collapsed": false
   },
   "outputs": [
    {
     "data": {
      "text/plain": [
       "[(1,\n",
       "  {'BEL': 'a(CHEBI:\"gamma-secretase inhibitor\")',\n",
       "   'function': 'a',\n",
       "   'namespace': 'CHEBI',\n",
       "   'value': 'gamma-secretase inhibitor'}),\n",
       " (2,\n",
       "  {'BEL': 'complex(SCOMP:\"gamma Secretase Complex\")',\n",
       "   'function': 'complex',\n",
       "   'namespace': 'SCOMP',\n",
       "   'value': '\"gamma Secretase Complex\"'})]"
      ]
     },
     "execution_count": 13,
     "metadata": {},
     "output_type": "execute_result"
    }
   ],
   "source": [
    "graph_AD.nodes(data=True)[:2]"
   ]
  },
  {
   "cell_type": "code",
   "execution_count": 14,
   "metadata": {
    "collapsed": false
   },
   "outputs": [
    {
     "data": {
      "text/plain": [
       "[(1, 2), (1, 2)]"
      ]
     },
     "execution_count": 14,
     "metadata": {},
     "output_type": "execute_result"
    }
   ],
   "source": [
    "graph_AD.edges()[:2]"
   ]
  },
  {
   "cell_type": "code",
   "execution_count": 15,
   "metadata": {
    "collapsed": false,
    "scrolled": true
   },
   "outputs": [
    {
     "data": {
      "text/plain": [
       "[(1,\n",
       "  2,\n",
       "  0,\n",
       "  {'Subgraph': ('Non-amyloidogenic pathway', 'Gamma secretase pathway'),\n",
       "   'citation': ('Other', 'Connectors', '123'),\n",
       "   'evidence': 'The statements inside this citation is included to connect two entity types or triples, which will exist as islands/subnetworks in the big model.',\n",
       "   'object_activity': 'act',\n",
       "   'rel': 'decreases'}),\n",
       " (1,\n",
       "  2,\n",
       "  1,\n",
       "  {'DiseaseState': ('Mild AD',),\n",
       "   'FDASTATUS': ('Phase 3',),\n",
       "   'Subgraph': ('Notch pathway', 'Gamma secretase pathway'),\n",
       "   'citation': ('PubMed', 'Curr Med Chem. 2011;18(35):5430-47', '22087836'),\n",
       "   'evidence': 'gamma-Secretase inhibitor believed to be associated with the inhibition of the cleavage of Notch, a transmembrane receptor involved in regulating cell-fate decisions.',\n",
       "   'object_activity': 'pep',\n",
       "   'rel': 'decreases'})]"
      ]
     },
     "execution_count": 15,
     "metadata": {},
     "output_type": "execute_result"
    }
   ],
   "source": [
    "graph_AD.edges(data=True,keys=True)[:2]\n",
    "# keys => number of edges inside "
   ]
  },
  {
   "cell_type": "markdown",
   "metadata": {},
   "source": [
    "```\n",
    "[(1, \n",
    "  2,\n",
    "  0, <- index of the edge\n",
    "```"
   ]
  },
  {
   "cell_type": "code",
   "execution_count": 16,
   "metadata": {
    "collapsed": true
   },
   "outputs": [],
   "source": [
    "#nodes = np.random.choice(graph,size=100,replace=False)\n"
   ]
  },
  {
   "cell_type": "code",
   "execution_count": 17,
   "metadata": {
    "collapsed": false
   },
   "outputs": [],
   "source": [
    "nodes = set(itt.chain.from_iterable((formN,toN) for formN,toN  in graph_AD.edges()[:100]))"
   ]
  },
  {
   "cell_type": "code",
   "execution_count": 18,
   "metadata": {
    "collapsed": false
   },
   "outputs": [],
   "source": [
    "graph_100 = graph_AD.subgraph(nodes)\n",
    "# creating a subgraph "
   ]
  },
  {
   "cell_type": "code",
   "execution_count": 19,
   "metadata": {
    "collapsed": false
   },
   "outputs": [
    {
     "data": {
      "image/png": "[encoded data removed]",
      "text/plain": [
       "<matplotlib.figure.Figure at 0x10efc1908>"
      ]
     },
     "metadata": {},
     "output_type": "display_data"
    }
   ],
   "source": [
    "nx.draw(graph_100)"
   ]
  },
  {
   "cell_type": "code",
   "execution_count": 20,
   "metadata": {
    "collapsed": false
   },
   "outputs": [
    {
     "data": {
      "image/png": "[encoded data removed]",
      "text/plain": [
       "<matplotlib.figure.Figure at 0x10dcfe160>"
      ]
     },
     "metadata": {},
     "output_type": "display_data"
    }
   ],
   "source": [
    "nx.draw_spring(graph_100, with_labels=True)\n",
    "# delegates everything to the draw function\n",
    "\n",
    "# "
   ]
  },
  {
   "cell_type": "code",
   "execution_count": 21,
   "metadata": {
    "collapsed": false
   },
   "outputs": [
    {
     "data": {
      "image/png": "[encoded data removed]",
      "text/plain": [
       "<matplotlib.figure.Figure at 0x10daa64e0>"
      ]
     },
     "metadata": {},
     "output_type": "display_data"
    }
   ],
   "source": [
    "nx.draw_spectral(graph_100)\n",
    "# eigenvalues"
   ]
  },
  {
   "cell_type": "code",
   "execution_count": 22,
   "metadata": {
    "collapsed": false,
    "scrolled": false
   },
   "outputs": [
    {
     "data": {
      "text/html": [
       "\n",
       "        <iframe\n",
       "            width=\"1000\"\n",
       "            height=\"800\"\n",
       "            src=\"graph-temp.html\"\n",
       "            frameborder=\"0\"\n",
       "            allowfullscreen\n",
       "        ></iframe>\n",
       "        "
      ],
      "text/plain": [
       "<IPython.lib.display.IFrame at 0x101c02160>"
      ]
     },
     "execution_count": 22,
     "metadata": {},
     "output_type": "execute_result"
    }
   ],
   "source": [
    "imp.reload(vis_bel)\n",
    "vis_bel.draw(graph_100)\n"
   ]
  },
  {
   "cell_type": "code",
   "execution_count": 23,
   "metadata": {
    "collapsed": false,
    "scrolled": true
   },
   "outputs": [
    {
     "name": "stdout",
     "output_type": "stream",
     "text": [
      "(1, 2, 0, {'object_activity': 'act', 'citation': ('Other', 'Connectors', '123'), 'Subgraph': ('Non-amyloidogenic pathway', 'Gamma secretase pathway'), 'rel': 'decreases', 'evidence': 'The statements inside this citation is included to connect two entity types or triples, which will exist as islands/subnetworks in the big model.'})\n"
     ]
    }
   ],
   "source": [
    "for edge in graph_100.edges_iter(data=True,keys=True):\n",
    "    print(edge)\n",
    "    break"
   ]
  },
  {
   "cell_type": "code",
   "execution_count": 24,
   "metadata": {
    "collapsed": false,
    "scrolled": true
   },
   "outputs": [
    {
     "name": "stdout",
     "output_type": "stream",
     "text": [
      "1 2 0 {'object_activity': 'act', 'citation': ('Other', 'Connectors', '123'), 'Subgraph': ('Non-amyloidogenic pathway', 'Gamma secretase pathway'), 'rel': 'decreases', 'evidence': 'The statements inside this citation is included to connect two entity types or triples, which will exist as islands/subnetworks in the big model.'}\n"
     ]
    }
   ],
   "source": [
    "for u,v,k,a in graph_100.edges_iter(data=True,keys=True):\n",
    "    print(u,v,k,a)\n",
    "    break"
   ]
  },
  {
   "cell_type": "markdown",
   "metadata": {},
   "source": [
    "## Tasks\n",
    "\n",
    "0. Find the node with the highest degree in graph_100\n",
    "0. get all distinct attribute keys in nodes and edges for graph_100\n",
    "0. Write a function which allows you to search all edges in the graph_100 with any key (or key/value). Allow value to be optional\n",
    "0. Find shortest paths between all nodes link to the edges found in the previsious task and create a new graph, display it "
   ]
  },
  {
   "cell_type": "markdown",
   "metadata": {},
   "source": [
    "### Task 1: Find the node with the highest degree in graph_100"
   ]
  },
  {
   "cell_type": "code",
   "execution_count": 25,
   "metadata": {
    "collapsed": false
   },
   "outputs": [
    {
     "data": {
      "text/plain": [
       "6"
      ]
     },
     "execution_count": 25,
     "metadata": {},
     "output_type": "execute_result"
    }
   ],
   "source": [
    "import operator\n",
    "max(graph_100.degree().items(), key=operator.itemgetter(1))[0]"
   ]
  },
  {
   "cell_type": "code",
   "execution_count": 26,
   "metadata": {
    "collapsed": false
   },
   "outputs": [
    {
     "data": {
      "text/plain": [
       "6"
      ]
     },
     "execution_count": 26,
     "metadata": {},
     "output_type": "execute_result"
    }
   ],
   "source": [
    "dct_graph = graph_100.degree()\n",
    "max(dct_graph, key=dct_graph.get)"
   ]
  },
  {
   "cell_type": "markdown",
   "metadata": {},
   "source": [
    "### Task 2: Get all distinct attribute keys in nodes and edges for graph_100"
   ]
  },
  {
   "cell_type": "code",
   "execution_count": 27,
   "metadata": {
    "collapsed": false,
    "scrolled": false
   },
   "outputs": [
    {
     "data": {
      "text/plain": [
       "['BEL', 'function', 'namespace', 'value', 'valid_NSV', 'list']"
      ]
     },
     "execution_count": 27,
     "metadata": {},
     "output_type": "execute_result"
    }
   ],
   "source": [
    "distinct_nodes_attr = []\n",
    "for item in graph_100.nodes(data=True):\n",
    "    for attr in item[1].keys():\n",
    "        if attr not in distinct_nodes_attr:\n",
    "            distinct_nodes_attr.append(attr)\n",
    "distinct_nodes_attr"
   ]
  },
  {
   "cell_type": "code",
   "execution_count": 28,
   "metadata": {
    "collapsed": false
   },
   "outputs": [
    {
     "data": {
      "text/plain": [
       "['object_activity',\n",
       " 'citation',\n",
       " 'Subgraph',\n",
       " 'rel',\n",
       " 'evidence',\n",
       " 'DiseaseState',\n",
       " 'FDASTATUS',\n",
       " 'subject_activity',\n",
       " 'FluidAndSecretion',\n",
       " 'NervousSystem',\n",
       " 'CellStructure',\n",
       " 'MeSHDisease',\n",
       " 'UserdefinedCellLine',\n",
       " 'DigestiveSystem',\n",
       " 'Species',\n",
       " 'Cell',\n",
       " 'subject_translocation_from_namespace',\n",
       " 'subject_translocation_to_value',\n",
       " 'subject_translocation_from_value',\n",
       " 'subject_translocation_to_namespace',\n",
       " 'subject_translocation',\n",
       " 'UserdefinedSpecies',\n",
       " 'UserdefinedGender',\n",
       " 'CellLine',\n",
       " 'Duration_of_Chemical_Exposure',\n",
       " 'Developmental_Phase__of_patient',\n",
       " 'Encode_Feature_Types',\n",
       " 'object_translocation_from_value',\n",
       " 'object_translocation_to_namespace',\n",
       " 'object_translocation',\n",
       " 'object_translocation_from_namespace',\n",
       " 'object_translocation_to_value',\n",
       " 'Tissue',\n",
       " 'CardiovascularSystem']"
      ]
     },
     "execution_count": 28,
     "metadata": {},
     "output_type": "execute_result"
    }
   ],
   "source": [
    "distinct_edges_attr = []\n",
    "for item in graph_100.edges(data=True):\n",
    "    for attr in item[2].keys():\n",
    "        if attr not in distinct_edges_attr:\n",
    "            distinct_edges_attr.append(attr)\n",
    "distinct_edges_attr"
   ]
  },
  {
   "cell_type": "markdown",
   "metadata": {},
   "source": [
    "### Task 3: Write a function which allows you to search all edges in the graph_100 with any key (or key/value). Allow value to be optional"
   ]
  },
  {
   "cell_type": "markdown",
   "metadata": {},
   "source": [
    "**hint** : Write a function which allows you to search all edges in the graph_100 with any key (or key/value). Allow value to be optional"
   ]
  },
  {
   "cell_type": "code",
   "execution_count": 29,
   "metadata": {
    "collapsed": true
   },
   "outputs": [],
   "source": [
    "def find_edges_by_attrib_key_value(graph, attribKey, attribValue=None):\n",
    "    edge_list = []\n",
    "    if attribValue is None:\n",
    "        for item in graph_100.edges(data=True):\n",
    "                if attribKey in item[2]:\n",
    "                    edge_list.append(item)\n",
    "    else:            \n",
    "        for item in graph_100.edges(data=True):\n",
    "            if attribKey in item[2]:\n",
    "                if attribValue in item[2][attribKey]:\n",
    "                    edge_list.append(item)                    \n",
    "    return edge_list if edge_list else False"
   ]
  },
  {
   "cell_type": "code",
   "execution_count": 30,
   "metadata": {
    "collapsed": false
   },
   "outputs": [
    {
     "data": {
      "text/plain": [
       "[(2,\n",
       "  2212,\n",
       "  {'MeSHDisease': ('Alzheimer Disease',),\n",
       "   'Subgraph': ('Phosphatidylinositol 3 pathway',),\n",
       "   'citation': ('PubMed',\n",
       "    'J Neurochem. 2007 Aug;102(3):848-57. Epub 2007 Apr 16',\n",
       "    '17437536'),\n",
       "   'evidence': \"We previously showed that some familial Alzheimer's disease PS mutations cause increased basal and acetylcholine muscarinic receptor-stimulated phospholipase C (PLC) activity which was gamma-secretase dependent.\",\n",
       "   'rel': 'association'}),\n",
       " (2,\n",
       "  7,\n",
       "  {'MeSHDisease': ('Alzheimer Disease',),\n",
       "   'Subgraph': ('Phosphatidylinositol 3 pathway',),\n",
       "   'citation': ('PubMed',\n",
       "    'J Neurochem. 2007 Aug;102(3):848-57. Epub 2007 Apr 16',\n",
       "    '17437536'),\n",
       "   'evidence': \"We previously showed that some familial Alzheimer's disease PS mutations cause increased basal and acetylcholine muscarinic receptor-stimulated phospholipase C (PLC) activity which was gamma-secretase dependent.\",\n",
       "   'rel': 'association'}),\n",
       " (3,\n",
       "  4,\n",
       "  {'MeSHDisease': ('Alzheimer Disease',),\n",
       "   'NervousSystem': ('Central Nervous System',),\n",
       "   'Subgraph': ('Beta secretase pathway',),\n",
       "   'citation': ('PubMed',\n",
       "    'Biol Psychiatry. 2013 Sep 1;74(5):357-66',\n",
       "    '23312564'),\n",
       "   'evidence': 'Hence, mifepristone induces a novel C-terminal cleavage of APP that prevents it being cleaved by Î±- or Î²-secretase, thereby precluding AÎ² generation in the central nervous system; this cleavage and the production of the 17-kDa APP fragment was generated by a calcium-dependent cysteine protease.',\n",
       "   'rel': 'directlyIncreases',\n",
       "   'subject_activity': 'pep'})]"
      ]
     },
     "execution_count": 30,
     "metadata": {},
     "output_type": "execute_result"
    }
   ],
   "source": [
    "find_edges_by_attrib_key_value(graph_100, 'MeSHDisease')[:3]"
   ]
  },
  {
   "cell_type": "code",
   "execution_count": 31,
   "metadata": {
    "collapsed": false
   },
   "outputs": [
    {
     "data": {
      "text/plain": [
       "[(2,\n",
       "  2212,\n",
       "  {'MeSHDisease': ('Alzheimer Disease',),\n",
       "   'Subgraph': ('Phosphatidylinositol 3 pathway',),\n",
       "   'citation': ('PubMed',\n",
       "    'J Neurochem. 2007 Aug;102(3):848-57. Epub 2007 Apr 16',\n",
       "    '17437536'),\n",
       "   'evidence': \"We previously showed that some familial Alzheimer's disease PS mutations cause increased basal and acetylcholine muscarinic receptor-stimulated phospholipase C (PLC) activity which was gamma-secretase dependent.\",\n",
       "   'rel': 'association'}),\n",
       " (2,\n",
       "  7,\n",
       "  {'MeSHDisease': ('Alzheimer Disease',),\n",
       "   'Subgraph': ('Phosphatidylinositol 3 pathway',),\n",
       "   'citation': ('PubMed',\n",
       "    'J Neurochem. 2007 Aug;102(3):848-57. Epub 2007 Apr 16',\n",
       "    '17437536'),\n",
       "   'evidence': \"We previously showed that some familial Alzheimer's disease PS mutations cause increased basal and acetylcholine muscarinic receptor-stimulated phospholipase C (PLC) activity which was gamma-secretase dependent.\",\n",
       "   'rel': 'association'}),\n",
       " (3,\n",
       "  4,\n",
       "  {'MeSHDisease': ('Alzheimer Disease',),\n",
       "   'NervousSystem': ('Central Nervous System',),\n",
       "   'Subgraph': ('Beta secretase pathway',),\n",
       "   'citation': ('PubMed',\n",
       "    'Biol Psychiatry. 2013 Sep 1;74(5):357-66',\n",
       "    '23312564'),\n",
       "   'evidence': 'Hence, mifepristone induces a novel C-terminal cleavage of APP that prevents it being cleaved by Î±- or Î²-secretase, thereby precluding AÎ² generation in the central nervous system; this cleavage and the production of the 17-kDa APP fragment was generated by a calcium-dependent cysteine protease.',\n",
       "   'rel': 'directlyIncreases',\n",
       "   'subject_activity': 'pep'})]"
      ]
     },
     "execution_count": 31,
     "metadata": {},
     "output_type": "execute_result"
    }
   ],
   "source": [
    "find_edges_by_attrib_key_value(graph_100, 'MeSHDisease', 'Alzheimer Disease')[:3]"
   ]
  },
  {
   "cell_type": "markdown",
   "metadata": {},
   "source": [
    "### Task 4: Find shortest paths between all nodes link to the edges found in the previsious task and create a new graph, display it"
   ]
  },
  {
   "cell_type": "code",
   "execution_count": 33,
   "metadata": {
    "collapsed": false,
    "scrolled": false
   },
   "outputs": [
    {
     "data": {
      "text/plain": [
       "{2: {2: [2],\n",
       "  3: [2, 7, 3],\n",
       "  4: [2, 7, 3, 4],\n",
       "  5: [2, 7, 3, 5],\n",
       "  6: [2, 7, 3, 6],\n",
       "  7: [2, 7],\n",
       "  2212: [2, 2212]},\n",
       " 3: {2: [3, 7, 2],\n",
       "  3: [3],\n",
       "  4: [3, 4],\n",
       "  5: [3, 5],\n",
       "  6: [3, 6],\n",
       "  7: [3, 7],\n",
       "  2212: [3, 7, 2, 2212]},\n",
       " 4: {4: [4]},\n",
       " 5: {2: [5, 3, 7, 2],\n",
       "  3: [5, 3],\n",
       "  4: [5, 3, 4],\n",
       "  5: [5],\n",
       "  6: [5, 3, 6],\n",
       "  7: [5, 3, 7],\n",
       "  2212: [5, 3, 7, 2, 2212]},\n",
       " 6: {2: [6, 7, 2],\n",
       "  3: [6, 3],\n",
       "  4: [6, 3, 4],\n",
       "  5: [6, 3, 5],\n",
       "  6: [6],\n",
       "  7: [6, 7],\n",
       "  2212: [6, 7, 2, 2212]},\n",
       " 7: {2: [7, 2],\n",
       "  3: [7, 3],\n",
       "  4: [7, 3, 4],\n",
       "  5: [7, 3, 5],\n",
       "  6: [7, 3, 6],\n",
       "  7: [7],\n",
       "  2212: [7, 2, 2212]},\n",
       " 2212: {2: [2212, 2],\n",
       "  3: [2212, 2, 7, 3],\n",
       "  4: [2212, 2, 7, 3, 4],\n",
       "  5: [2212, 2, 7, 3, 5],\n",
       "  6: [2212, 2, 7, 3, 6],\n",
       "  7: [2212, 2, 7],\n",
       "  2212: [2212]}}"
      ]
     },
     "execution_count": 33,
     "metadata": {},
     "output_type": "execute_result"
    }
   ],
   "source": [
    "lst_edges_AD = find_edges_by_attrib_key_value(graph_100, 'MeSHDisease', 'Alzheimer Disease')\n",
    "AD_subgraph = nx.MultiDiGraph()\n",
    "AD_subgraph.add_edges_from(lst_edges_AD)\n",
    "# # nx.shortest_path(graph_100, )\n",
    "nx.shortest_path(AD_subgraph)"
   ]
  },
  {
   "cell_type": "code",
   "execution_count": 40,
   "metadata": {
    "collapsed": false,
    "scrolled": false
   },
   "outputs": [
    {
     "data": {
      "image/png": "[encoded data removed]",
      "text/plain": [
       "<matplotlib.figure.Figure at 0x10453d358>"
      ]
     },
     "metadata": {},
     "output_type": "display_data"
    }
   ],
   "source": [
    "nx.draw_shell(AD_subgraph, with_labels=True)"
   ]
  }
 ],
 "metadata": {
  "kernelspec": {
   "display_name": "Python 3",
   "language": "python",
   "name": "python3"
  },
  "language_info": {
   "codemirror_mode": {
    "name": "ipython",
    "version": 3
   },
   "file_extension": ".py",
   "mimetype": "text/x-python",
   "name": "python",
   "nbconvert_exporter": "python",
   "pygments_lexer": "ipython3",
   "version": "3.5.2"
  }
 },
 "nbformat": 4,
 "nbformat_minor": 1
}
