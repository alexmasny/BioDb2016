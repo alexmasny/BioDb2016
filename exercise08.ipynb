{
 "cells": [
  {
   "cell_type": "markdown",
   "metadata": {},
   "source": [
    "# Introduction\n",
    "\n",
    "This exercise makes use of the database you created in `Exercise02` and the BEL statement parsers you write with regular expressions in `Reading_searching_sending.ipynb`."
   ]
  },
  {
   "cell_type": "code",
   "execution_count": 1,
   "metadata": {
    "collapsed": false
   },
   "outputs": [
    {
     "data": {
      "text/plain": [
       "'Thu Oct  6 09:22:38 2016'"
      ]
     },
     "execution_count": 1,
     "metadata": {},
     "output_type": "execute_result"
    }
   ],
   "source": [
    "import pandas as pd\n",
    "import os, json, re, time\n",
    "time.asctime()"
   ]
  },
  {
   "cell_type": "code",
   "execution_count": 2,
   "metadata": {
    "collapsed": false
   },
   "outputs": [
    {
     "data": {
      "text/plain": [
       "'/Users/alex/bit/bug-free-eureka'"
      ]
     },
     "execution_count": 2,
     "metadata": {},
     "output_type": "execute_result"
    }
   ],
   "source": [
    "base = os.path.join(os.environ['BUG_FREE_EUREKA_BASE'])\n",
    "base"
   ]
  },
  {
   "cell_type": "markdown",
   "metadata": {},
   "source": [
    "# Task 1\n",
    "\n",
    "This exercise is about loading the HGNC data to create a dictionary from HGNC symbols to set of enzyme ID's.\n",
    "\n",
    "## 1.1 Load Data\n",
    "\n",
    "Load json data from `/data/exercise02/hgnc_complete_set.json`."
   ]
  },
  {
   "cell_type": "code",
   "execution_count": 3,
   "metadata": {
    "collapsed": true
   },
   "outputs": [],
   "source": [
    "data_path = os.path.join(base, 'data', 'exercise02', 'hgnc_complete_set.json')\n",
    "with open(data_path) as f:\n",
    "    hgnc_json = json.load(f)"
   ]
  },
  {
   "cell_type": "markdown",
   "metadata": {},
   "source": [
    "## 1.2 Reorganize Data into `pd.DataFrame`\n",
    "\n",
    "Identify the relevant subdictionaries in your `dictionary -> response -> docs`. Load them to a data frame, \n",
    "then create a new data frame with just the HGNC symbol and Enzyme ID"
   ]
  },
  {
   "cell_type": "code",
   "execution_count": 4,
   "metadata": {
    "collapsed": true
   },
   "outputs": [],
   "source": [
    "df_hgnc = pd.DataFrame(hgnc_json['response']['docs'])"
   ]
  },
  {
   "cell_type": "code",
   "execution_count": 5,
   "metadata": {
    "collapsed": false,
    "scrolled": true
   },
   "outputs": [
    {
     "data": {
      "text/plain": [
       "Index(['_version_', 'alias_name', 'alias_symbol', 'bioparadigms_slc',\n",
       "       'ccds_id', 'cd', 'cosmic', 'date_approved_reserved', 'date_modified',\n",
       "       'date_name_changed', 'date_symbol_changed', 'ena', 'ensembl_gene_id',\n",
       "       'entrez_id', 'enzyme_id', 'gene_family', 'gene_family_id', 'hgnc_id',\n",
       "       'homeodb', 'horde_id', 'imgt', 'intermediate_filament_db', 'iuphar',\n",
       "       'kznf_gene_catalog', 'lncrnadb', 'location', 'location_sortable',\n",
       "       'locus_group', 'locus_type', 'lsdb', 'mamit-trnadb', 'merops', 'mgd_id',\n",
       "       'mirbase', 'name', 'omim_id', 'orphanet', 'prev_name', 'prev_symbol',\n",
       "       'pseudogene.org', 'pubmed_id', 'refseq_accession', 'rgd_id',\n",
       "       'snornabase', 'status', 'symbol', 'ucsc_id', 'uniprot_ids', 'uuid',\n",
       "       'vega_id'],\n",
       "      dtype='object')"
      ]
     },
     "execution_count": 5,
     "metadata": {},
     "output_type": "execute_result"
    }
   ],
   "source": [
    "df_hgnc.columns"
   ]
  },
  {
   "cell_type": "markdown",
   "metadata": {},
   "source": [
    "## 1.3 Build dictionary for lookup\n",
    "\n",
    "Iterate over this dataframe to build a dictionary that is `{hgnc symbol: set of enzyme id's}`. Call this dictionary `symbol2ec`"
   ]
  },
  {
   "cell_type": "code",
   "execution_count": 6,
   "metadata": {
    "collapsed": false
   },
   "outputs": [
    {
     "data": {
      "text/html": [
       "<div>\n",
       "<table border=\"1\" class=\"dataframe\">\n",
       "  <thead>\n",
       "    <tr style=\"text-align: right;\">\n",
       "      <th></th>\n",
       "      <th>symbol</th>\n",
       "      <th>enzyme_id</th>\n",
       "    </tr>\n",
       "  </thead>\n",
       "  <tbody>\n",
       "    <tr>\n",
       "      <th>0</th>\n",
       "      <td>A1BG</td>\n",
       "      <td>NaN</td>\n",
       "    </tr>\n",
       "    <tr>\n",
       "      <th>1</th>\n",
       "      <td>A1BG-AS1</td>\n",
       "      <td>NaN</td>\n",
       "    </tr>\n",
       "    <tr>\n",
       "      <th>2</th>\n",
       "      <td>A1CF</td>\n",
       "      <td>NaN</td>\n",
       "    </tr>\n",
       "    <tr>\n",
       "      <th>3</th>\n",
       "      <td>A2M</td>\n",
       "      <td>NaN</td>\n",
       "    </tr>\n",
       "    <tr>\n",
       "      <th>4</th>\n",
       "      <td>A2M-AS1</td>\n",
       "      <td>NaN</td>\n",
       "    </tr>\n",
       "    <tr>\n",
       "      <th>5</th>\n",
       "      <td>A2ML1</td>\n",
       "      <td>NaN</td>\n",
       "    </tr>\n",
       "    <tr>\n",
       "      <th>6</th>\n",
       "      <td>A2ML1-AS1</td>\n",
       "      <td>NaN</td>\n",
       "    </tr>\n",
       "    <tr>\n",
       "      <th>7</th>\n",
       "      <td>A2ML1-AS2</td>\n",
       "      <td>NaN</td>\n",
       "    </tr>\n",
       "    <tr>\n",
       "      <th>8</th>\n",
       "      <td>A2MP1</td>\n",
       "      <td>NaN</td>\n",
       "    </tr>\n",
       "    <tr>\n",
       "      <th>9</th>\n",
       "      <td>A3GALT2</td>\n",
       "      <td>NaN</td>\n",
       "    </tr>\n",
       "    <tr>\n",
       "      <th>10</th>\n",
       "      <td>A4GALT</td>\n",
       "      <td>[2.4.1.228]</td>\n",
       "    </tr>\n",
       "    <tr>\n",
       "      <th>11</th>\n",
       "      <td>A4GNT</td>\n",
       "      <td>NaN</td>\n",
       "    </tr>\n",
       "    <tr>\n",
       "      <th>12</th>\n",
       "      <td>A12M1</td>\n",
       "      <td>NaN</td>\n",
       "    </tr>\n",
       "    <tr>\n",
       "      <th>13</th>\n",
       "      <td>A12M2</td>\n",
       "      <td>NaN</td>\n",
       "    </tr>\n",
       "    <tr>\n",
       "      <th>14</th>\n",
       "      <td>A12M3</td>\n",
       "      <td>NaN</td>\n",
       "    </tr>\n",
       "    <tr>\n",
       "      <th>15</th>\n",
       "      <td>A12M4</td>\n",
       "      <td>NaN</td>\n",
       "    </tr>\n",
       "    <tr>\n",
       "      <th>16</th>\n",
       "      <td>AAAS</td>\n",
       "      <td>NaN</td>\n",
       "    </tr>\n",
       "    <tr>\n",
       "      <th>17</th>\n",
       "      <td>AABT</td>\n",
       "      <td>NaN</td>\n",
       "    </tr>\n",
       "    <tr>\n",
       "      <th>18</th>\n",
       "      <td>AACS</td>\n",
       "      <td>[6.2.1.16]</td>\n",
       "    </tr>\n",
       "    <tr>\n",
       "      <th>19</th>\n",
       "      <td>AACSP1</td>\n",
       "      <td>NaN</td>\n",
       "    </tr>\n",
       "    <tr>\n",
       "      <th>20</th>\n",
       "      <td>AADAC</td>\n",
       "      <td>[3.1.1.3]</td>\n",
       "    </tr>\n",
       "    <tr>\n",
       "      <th>21</th>\n",
       "      <td>AADACL2</td>\n",
       "      <td>NaN</td>\n",
       "    </tr>\n",
       "    <tr>\n",
       "      <th>22</th>\n",
       "      <td>AADACL2-AS1</td>\n",
       "      <td>NaN</td>\n",
       "    </tr>\n",
       "    <tr>\n",
       "      <th>23</th>\n",
       "      <td>AADACL3</td>\n",
       "      <td>NaN</td>\n",
       "    </tr>\n",
       "    <tr>\n",
       "      <th>24</th>\n",
       "      <td>AADACL4</td>\n",
       "      <td>NaN</td>\n",
       "    </tr>\n",
       "    <tr>\n",
       "      <th>25</th>\n",
       "      <td>AADACP1</td>\n",
       "      <td>NaN</td>\n",
       "    </tr>\n",
       "    <tr>\n",
       "      <th>26</th>\n",
       "      <td>AADAT</td>\n",
       "      <td>[2.6.1.39, 2.6.1.7]</td>\n",
       "    </tr>\n",
       "    <tr>\n",
       "      <th>27</th>\n",
       "      <td>AAED1</td>\n",
       "      <td>NaN</td>\n",
       "    </tr>\n",
       "    <tr>\n",
       "      <th>28</th>\n",
       "      <td>AAGAB</td>\n",
       "      <td>NaN</td>\n",
       "    </tr>\n",
       "    <tr>\n",
       "      <th>29</th>\n",
       "      <td>AAK1</td>\n",
       "      <td>NaN</td>\n",
       "    </tr>\n",
       "    <tr>\n",
       "      <th>30</th>\n",
       "      <td>AAMDC</td>\n",
       "      <td>NaN</td>\n",
       "    </tr>\n",
       "    <tr>\n",
       "      <th>31</th>\n",
       "      <td>AAMP</td>\n",
       "      <td>NaN</td>\n",
       "    </tr>\n",
       "    <tr>\n",
       "      <th>32</th>\n",
       "      <td>AANAT</td>\n",
       "      <td>[2.3.1.87]</td>\n",
       "    </tr>\n",
       "    <tr>\n",
       "      <th>33</th>\n",
       "      <td>AAR2</td>\n",
       "      <td>NaN</td>\n",
       "    </tr>\n",
       "    <tr>\n",
       "      <th>34</th>\n",
       "      <td>AARD</td>\n",
       "      <td>NaN</td>\n",
       "    </tr>\n",
       "    <tr>\n",
       "      <th>35</th>\n",
       "      <td>AARS</td>\n",
       "      <td>[6.1.1.7]</td>\n",
       "    </tr>\n",
       "    <tr>\n",
       "      <th>36</th>\n",
       "      <td>AARS2</td>\n",
       "      <td>[6.1.1.7]</td>\n",
       "    </tr>\n",
       "    <tr>\n",
       "      <th>37</th>\n",
       "      <td>AARSD1</td>\n",
       "      <td>NaN</td>\n",
       "    </tr>\n",
       "    <tr>\n",
       "      <th>38</th>\n",
       "      <td>AARSP1</td>\n",
       "      <td>NaN</td>\n",
       "    </tr>\n",
       "    <tr>\n",
       "      <th>39</th>\n",
       "      <td>AASDH</td>\n",
       "      <td>[1.2.1.31]</td>\n",
       "    </tr>\n",
       "    <tr>\n",
       "      <th>40</th>\n",
       "      <td>AASDHPPT</td>\n",
       "      <td>[2.7.8.7]</td>\n",
       "    </tr>\n",
       "    <tr>\n",
       "      <th>41</th>\n",
       "      <td>AASS</td>\n",
       "      <td>NaN</td>\n",
       "    </tr>\n",
       "    <tr>\n",
       "      <th>42</th>\n",
       "      <td>AATBC</td>\n",
       "      <td>NaN</td>\n",
       "    </tr>\n",
       "    <tr>\n",
       "      <th>43</th>\n",
       "      <td>AATF</td>\n",
       "      <td>NaN</td>\n",
       "    </tr>\n",
       "    <tr>\n",
       "      <th>44</th>\n",
       "      <td>AATK</td>\n",
       "      <td>NaN</td>\n",
       "    </tr>\n",
       "    <tr>\n",
       "      <th>45</th>\n",
       "      <td>AATK-AS1</td>\n",
       "      <td>NaN</td>\n",
       "    </tr>\n",
       "    <tr>\n",
       "      <th>46</th>\n",
       "      <td>AAVS1</td>\n",
       "      <td>NaN</td>\n",
       "    </tr>\n",
       "    <tr>\n",
       "      <th>47</th>\n",
       "      <td>ABALON</td>\n",
       "      <td>NaN</td>\n",
       "    </tr>\n",
       "    <tr>\n",
       "      <th>48</th>\n",
       "      <td>ABAT</td>\n",
       "      <td>[2.6.1.19]</td>\n",
       "    </tr>\n",
       "    <tr>\n",
       "      <th>49</th>\n",
       "      <td>ABCA1</td>\n",
       "      <td>NaN</td>\n",
       "    </tr>\n",
       "  </tbody>\n",
       "</table>\n",
       "</div>"
      ],
      "text/plain": [
       "         symbol            enzyme_id\n",
       "0          A1BG                  NaN\n",
       "1      A1BG-AS1                  NaN\n",
       "2          A1CF                  NaN\n",
       "3           A2M                  NaN\n",
       "4       A2M-AS1                  NaN\n",
       "5         A2ML1                  NaN\n",
       "6     A2ML1-AS1                  NaN\n",
       "7     A2ML1-AS2                  NaN\n",
       "8         A2MP1                  NaN\n",
       "9       A3GALT2                  NaN\n",
       "10       A4GALT          [2.4.1.228]\n",
       "11        A4GNT                  NaN\n",
       "12        A12M1                  NaN\n",
       "13        A12M2                  NaN\n",
       "14        A12M3                  NaN\n",
       "15        A12M4                  NaN\n",
       "16         AAAS                  NaN\n",
       "17         AABT                  NaN\n",
       "18         AACS           [6.2.1.16]\n",
       "19       AACSP1                  NaN\n",
       "20        AADAC            [3.1.1.3]\n",
       "21      AADACL2                  NaN\n",
       "22  AADACL2-AS1                  NaN\n",
       "23      AADACL3                  NaN\n",
       "24      AADACL4                  NaN\n",
       "25      AADACP1                  NaN\n",
       "26        AADAT  [2.6.1.39, 2.6.1.7]\n",
       "27        AAED1                  NaN\n",
       "28        AAGAB                  NaN\n",
       "29         AAK1                  NaN\n",
       "30        AAMDC                  NaN\n",
       "31         AAMP                  NaN\n",
       "32        AANAT           [2.3.1.87]\n",
       "33         AAR2                  NaN\n",
       "34         AARD                  NaN\n",
       "35         AARS            [6.1.1.7]\n",
       "36        AARS2            [6.1.1.7]\n",
       "37       AARSD1                  NaN\n",
       "38       AARSP1                  NaN\n",
       "39        AASDH           [1.2.1.31]\n",
       "40     AASDHPPT            [2.7.8.7]\n",
       "41         AASS                  NaN\n",
       "42        AATBC                  NaN\n",
       "43         AATF                  NaN\n",
       "44         AATK                  NaN\n",
       "45     AATK-AS1                  NaN\n",
       "46        AAVS1                  NaN\n",
       "47       ABALON                  NaN\n",
       "48         ABAT           [2.6.1.19]\n",
       "49        ABCA1                  NaN"
      ]
     },
     "execution_count": 6,
     "metadata": {},
     "output_type": "execute_result"
    }
   ],
   "source": [
    "df_hgnc_sliced = df_hgnc[['symbol', 'enzyme_id']]\n",
    "df_hgnc_sliced.head(50)"
   ]
  },
  {
   "cell_type": "code",
   "execution_count": 7,
   "metadata": {
    "collapsed": false
   },
   "outputs": [],
   "source": [
    "symbol2ec = {}\n",
    "\n",
    "for idx, symbol, enzyme_ids in df_hgnc_sliced.itertuples():\n",
    "    # we iterating over tuples, but there are much more\n",
    "    # it is a method, so we need to put ()\n",
    "    if isinstance(enzyme_ids, list):\n",
    "        symbol2ec[symbol] = enzyme_ids\n",
    "        # set membership could be looked very quickly!\n",
    "        # it uses hashing functions, so you can look in very quickly\n",
    "    else:\n",
    "        symbol2ec[symbol] = []"
   ]
  },
  {
   "cell_type": "code",
   "execution_count": 8,
   "metadata": {
    "collapsed": false
   },
   "outputs": [
    {
     "data": {
      "text/plain": [
       "True"
      ]
     },
     "execution_count": 8,
     "metadata": {},
     "output_type": "execute_result"
    }
   ],
   "source": [
    "'AKT1' in symbol2ec\n",
    "'AKT1' in symbol2ec.keys()\n",
    "# it automatically transformes it to keys"
   ]
  },
  {
   "cell_type": "code",
   "execution_count": 9,
   "metadata": {
    "collapsed": false
   },
   "outputs": [
    {
     "name": "stdout",
     "output_type": "stream",
     "text": [
      "MIR1245A\n",
      "PCNX2\n",
      "PSMA7P\n",
      "CD96\n",
      "RNA5SP221\n"
     ]
    }
   ],
   "source": [
    "for k, v in zip(symbol2ec, range(5)):\n",
    "    print(k)"
   ]
  },
  {
   "cell_type": "markdown",
   "metadata": {},
   "source": [
    "# Task 2\n",
    "\n",
    "This subexercise is about validating protein and kinase activity statements in BEL. Refer to last Thursday's work in `Reading_searching_sending.ipynb`."
   ]
  },
  {
   "cell_type": "markdown",
   "metadata": {},
   "source": [
    "## 2.1 Valid HGNC\n",
    "\n",
    "Write a function, `valid_hgnc(hgnc_symbol, symbol2ec_instance)` that takes a name and the dictionary from Task 1.3 and returns whether this is a valid name"
   ]
  },
  {
   "cell_type": "code",
   "execution_count": 54,
   "metadata": {
    "collapsed": false
   },
   "outputs": [
    {
     "name": "stdout",
     "output_type": "stream",
     "text": [
      "True\n"
     ]
    },
    {
     "ename": "ValueError",
     "evalue": "input is not str",
     "output_type": "error",
     "traceback": [
      "\u001b[0;31m---------------------------------------------------------------------------\u001b[0m",
      "\u001b[0;31mValueError\u001b[0m                                Traceback (most recent call last)",
      "\u001b[0;32m<ipython-input-54-cd95214078e3>\u001b[0m in \u001b[0;36m<module>\u001b[0;34m()\u001b[0m\n\u001b[1;32m      7\u001b[0m \u001b[0;31m# assert not valid_hgnc('blabla', symbol2ec)\u001b[0m\u001b[0;34m\u001b[0m\u001b[0;34m\u001b[0m\u001b[0m\n\u001b[1;32m      8\u001b[0m \u001b[0mprint\u001b[0m\u001b[0;34m(\u001b[0m\u001b[0mvalid_hgnc\u001b[0m\u001b[0;34m(\u001b[0m\u001b[0;34m'AKT1'\u001b[0m\u001b[0;34m,\u001b[0m \u001b[0msymbol2ec\u001b[0m\u001b[0;34m)\u001b[0m\u001b[0;34m)\u001b[0m\u001b[0;34m\u001b[0m\u001b[0m\n\u001b[0;32m----> 9\u001b[0;31m \u001b[0mprint\u001b[0m\u001b[0;34m(\u001b[0m\u001b[0mvalid_hgnc\u001b[0m\u001b[0;34m(\u001b[0m\u001b[0;36m123\u001b[0m\u001b[0;34m,\u001b[0m \u001b[0msymbol2ec\u001b[0m\u001b[0;34m)\u001b[0m\u001b[0;34m)\u001b[0m\u001b[0;34m\u001b[0m\u001b[0m\n\u001b[0m",
      "\u001b[0;32m<ipython-input-54-cd95214078e3>\u001b[0m in \u001b[0;36mvalid_hgnc\u001b[0;34m(hgnc_symbol, symbol2ec_instance)\u001b[0m\n\u001b[1;32m      1\u001b[0m \u001b[0;32mdef\u001b[0m \u001b[0mvalid_hgnc\u001b[0m\u001b[0;34m(\u001b[0m\u001b[0mhgnc_symbol\u001b[0m\u001b[0;34m,\u001b[0m \u001b[0msymbol2ec_instance\u001b[0m\u001b[0;34m)\u001b[0m\u001b[0;34m:\u001b[0m\u001b[0;34m\u001b[0m\u001b[0m\n\u001b[1;32m      2\u001b[0m     \u001b[0;32mif\u001b[0m \u001b[0;32mnot\u001b[0m \u001b[0misinstance\u001b[0m\u001b[0;34m(\u001b[0m\u001b[0mhgnc_symbol\u001b[0m\u001b[0;34m,\u001b[0m \u001b[0mstr\u001b[0m\u001b[0;34m)\u001b[0m\u001b[0;34m:\u001b[0m\u001b[0;34m\u001b[0m\u001b[0m\n\u001b[0;32m----> 3\u001b[0;31m         \u001b[0;32mraise\u001b[0m \u001b[0mValueError\u001b[0m\u001b[0;34m(\u001b[0m\u001b[0;34m'input is not str'\u001b[0m\u001b[0;34m)\u001b[0m\u001b[0;34m\u001b[0m\u001b[0m\n\u001b[0m\u001b[1;32m      4\u001b[0m     \u001b[0;32mreturn\u001b[0m \u001b[0mhgnc_symbol\u001b[0m \u001b[0;32min\u001b[0m \u001b[0msymbol2ec_instance\u001b[0m\u001b[0;34m\u001b[0m\u001b[0m\n\u001b[1;32m      5\u001b[0m \u001b[0;34m\u001b[0m\u001b[0m\n",
      "\u001b[0;31mValueError\u001b[0m: input is not str"
     ]
    }
   ],
   "source": [
    "def valid_hgnc(hgnc_symbol, symbol2ec_instance):\n",
    "    if not isinstance(hgnc_symbol, str):\n",
    "        raise ValueError('input is not str')\n",
    "    return hgnc_symbol in symbol2ec_instance\n",
    "\n",
    "# assert valid_hgnc('AKT1', symbol2ec)\n",
    "# assert not valid_hgnc('blabla', symbol2ec)\n",
    "print(valid_hgnc('AKT1', symbol2ec))\n",
    "print(valid_hgnc(123, symbol2ec))"
   ]
  },
  {
   "cell_type": "markdown",
   "metadata": {},
   "source": [
    "## 2.2 Valid Kinase Activity\n",
    "\n",
    "Write a function, `valid_kinase(hgnc_symbol, symbol2ec_instance)` that takes a name and the dictionary from Task 1.3 and returns whether this protein has kinase activity. Hint: an enzyme code reference can be found [here](http://brenda-enzymes.org/ecexplorer.php?browser=1&f[nodes]=132&f[action]=open&f[change]=153)"
   ]
  },
  {
   "cell_type": "code",
   "execution_count": 41,
   "metadata": {
    "collapsed": false
   },
   "outputs": [],
   "source": [
    "def valid_kinase(hgnc_symbol, symbol2ec_instance):\n",
    "    \"\"\"\n",
    "    Check if symbol is valid hgnc and if it is a kinase.\n",
    "    :param hgnc_symbol: a string representing a HGNC symbol\n",
    "    :param symbol2ec_instance: a dictionary of {HGNC symbol: set of EC codes}\n",
    "    \"\"\"\n",
    "    if not valid_hgnc(hgnc_symbol, symbol2ec_instance):\n",
    "        return False\n",
    "    for ec_id in symbol2ec_instance[hgnc_symbol]:\n",
    "        return ec_id.startswith('2.7.')\n",
    "    # rewrite with any() function\n",
    "    return False\n",
    "                \n",
    "\n",
    "assert valid_kinase('AKT1', symbol2ec)\n",
    "assert not valid_kinase('ABALON', symbol2ec)\n",
    "assert not valid_kinase('AANAT', symbol2ec)"
   ]
  },
  {
   "cell_type": "code",
   "execution_count": null,
   "metadata": {
    "collapsed": true
   },
   "outputs": [],
   "source": [
    "match_protein = # name only\n",
    "match_kin = # name only\n",
    "\n",
    "def validate_bel_term(term, symbol2ec_instance):\n",
    "    m = match_protein.match(term)\n",
    "    if m:\n",
    "        mm = m.gruodict()\n",
    "        symbol = mm['name']\n",
    "        return avlid_hgnc(symbol, symbol2ec_instance)\n",
    "    \n",
    "    m = match_kin.match(term)\n",
    "    if m:\n",
    "        mk = m.groupdict()\n",
    "        symbol = mk['name']\n",
    "        return valid_kinase(symbol, symbol2ec_instance)\n",
    "    return False"
   ]
  },
  {
   "cell_type": "markdown",
   "metadata": {},
   "source": [
    "## 2.3 Putting it all together\n",
    "\n",
    "Write a function, `validate_bel_term(term, symbol2ec_instance)` that parses a BEL term about either a protein, or the kinase activity of a protein and validates it.\n",
    "\n",
    "```python\n",
    "def validate_bel_term(term, symbol2ec_instance):\n",
    "    pass\n",
    "```\n",
    "\n",
    "### Examples\n",
    "\n",
    "```python\n",
    ">>> # check that the proteins have valid HGNC codes\n",
    ">>> validate_bel_term('p(HGNC:APP)', symbol2ec)\n",
    "True\n",
    ">>> validate_bel_term('p(HGNC:ABCDEF)', symbol2ec)\n",
    "False\n",
    ">>> # check that kinase activity annotations are only on proteins that are\n",
    ">>> # actually protein kinases (hint: check EC annotation)\n",
    ">>> validate_bel_term('kin(p(HGNC:APP))', symbol2ec)\n",
    "False\n",
    ">>> validate_bel_term('kin(p(HGNC:AKT1))', symbol2ec)\n",
    "True\n",
    "```"
   ]
  },
  {
   "cell_type": "code",
   "execution_count": 12,
   "metadata": {
    "collapsed": false
   },
   "outputs": [],
   "source": [
    "pattern = re.compile('^(?P<if_kinase>kin)*\\(*p\\((?P<namespace_object>\\w+)\\:(?P<protein_object>\\w+)\\)\\)*$')\n",
    "\n",
    "def validate_bel_term(term, symbol2ec_instance):\n",
    "    dct_regex_eval = pattern.match(term).groupdict()\n",
    "    return_cond = False\n",
    "    if dct_regex_eval['namespace_object'] == 'HGNC':\n",
    "        symbol = dct_regex_eval['protein_object']\n",
    "        return_cond = valid_hgnc(symbol, symbol2ec_instance)\n",
    "    if dct_regex_eval['if_kinase'] == 'kin':\n",
    "        return_cond = valid_kinase(symbol, symbol2ec_instance)\n",
    "    return return_cond\n",
    "    \n",
    "\n",
    "assert validate_bel_term('p(HGNC:APP)', symbol2ec)\n",
    "assert validate_bel_term('kin(p(HGNC:AASDHPPT))', symbol2ec)\n",
    "assert not validate_bel_term('p(HGNC:ABCDEF)', symbol2ec)\n",
    "assert not validate_bel_term('kin(p(HGNC:APP))', symbol2ec)"
   ]
  },
  {
   "cell_type": "markdown",
   "metadata": {},
   "source": [
    "# Task 3\n",
    "\n",
    "This task is about manual curation of text. You will be guided through translating the following text into BEL statements as strings within a python list.\n",
    "\n",
    "## Document Definitions\n",
    "\n",
    "Recall citations are written with source, title, then identifier as follows:\n",
    "\n",
    "```\n",
    "SET Citation = {\"PubMed\", \"Nat Cell Biol 2007 Mar 9(3) 316-23\", \"17277771\"}\n",
    "```\n",
    "\n",
    "Use these annotations and these namespaces:\n",
    "\n",
    "```\n",
    "DEFINE NAMESPACE HGNC AS URL \"http://resource.belframework.org/belframework/20131211/namespace/hgnc-human-genes.belns\"\n",
    "\n",
    "DEFINE ANNOTATION CellLocation as LIST {\"cell nucleus\", \"cytoplasm\", \"endoplasmic reticulum\"}\n",
    "```\n",
    "\n",
    "\n",
    "## Source Text\n",
    "\n",
    "> The following statements are from the document \"BEL Exercise\" in edition 00001 of the PyBEL Journal.\n",
    "\n",
    "> The kinase activity of PI3k causes the increased abundance of AKT serine/threonine kinase 1 and AKT serine/threonine kinase 2 in the cytoplasm, \n",
    "> but only the increased expression of AKT serine/threonine kinase 1 in the endoplasmic reticulum. \n",
    "> Additionally, the abundance of AKT serine/threonine kinase 1 and AKT serine/threonine kinase 2 were found to be positively correlated in the cell nuclei.\n",
    "> AKT serine/threonine kinase 2 increases GSK3 Beta in all of the nuclei, cytoplasm, and ER."
   ]
  },
  {
   "cell_type": "code",
   "execution_count": 13,
   "metadata": {
    "collapsed": true
   },
   "outputs": [],
   "source": [
    "definition_statements = [\n",
    "    'SET DOCUMENT name = \"BEL Exercise\"'\n",
    "    'DEFINE NAMESPACE HGNC AS URL \"http://resource.belframework.org/belframework/20131211/namespace/hgnc-human-genes.belns\"',\n",
    "    'DEFINE ANNOTATION CellLocation AS LIST {\"cell nucleus\", \"cytoplasm\", \"endoplasmic reticulum\"}',\n",
    "    # definition area\n",
    "]"
   ]
  },
  {
   "cell_type": "code",
   "execution_count": 14,
   "metadata": {
    "collapsed": false,
    "scrolled": true
   },
   "outputs": [
    {
     "data": {
      "text/plain": [
       "'PIK3CA'"
      ]
     },
     "execution_count": 14,
     "metadata": {},
     "output_type": "execute_result"
    }
   ],
   "source": [
    "def get_symbol(name_in):\n",
    "    return list(df_hgnc[df_hgnc.symbol==name_in]['symbol'])[0]\n",
    "get_symbol('PIK3CA')"
   ]
  },
  {
   "cell_type": "code",
   "execution_count": 15,
   "metadata": {
    "collapsed": false
   },
   "outputs": [],
   "source": [
    "# hint: there should be 11 statements from this text\n",
    "your_statements = [\n",
    "    'SET Citation = {\"PubMed\", \"\", \"PubMedID\"}',\n",
    "    'SET Evidence = {The kinase activity of PI3k causes the increased abundance of AKT serine/threonine kinase 1 and AKT serine/threonine kinase 2 in the cytoplasm, but only the increased expression of AKT serine/threonine kinase 1 in the endoplasmic reticulum. Additionally, the abundance of AKT serine/threonine kinase 1 and AKT serine/threonine kinase 2 were found to be positively correlated in the cell nuclei. AKT serine/threonine kinase 2 increases GSK3 Beta in all of the nuclei, cytoplasm, and ER.}',\n",
    "    'SET CellLocation = \"cytoplasm\"',\n",
    "    'kin(p(HGNC:PIK3CA)) increases p(HGNC:AKT1)',\n",
    "    'kin(p(HGNC:PIK3CA)) increases p(HGNC:AKT2)',\n",
    "    'SET CellLocation = \"endoplasmic reticulum\"',\n",
    "    'kin(p(HGNC:PIK3CA)) increases p(HGNC:AKT1)',\n",
    "    'SET CellLocation = \"cell nucleus\"',\n",
    "    'p(HGNC:AKT1) positiveCorrelation p(HGNC:AKT2)',\n",
    "    'SET CellLocation = {\"cell nucleus\", \"cytoplasm\", \"endoplasmic reticulum\"}',\n",
    "    'p(HGNC:AKT2) increases p(HGNC:GSK3B)',\n",
    "]"
   ]
  },
  {
   "cell_type": "code",
   "execution_count": 23,
   "metadata": {
    "collapsed": false,
    "scrolled": true
   },
   "outputs": [
    {
     "data": {
      "text/plain": [
       "['SET DOCUMENT name = \"BEL Exercise\"DEFINE NAMESPACE HGNC AS URL \"http://resource.belframework.org/belframework/20131211/namespace/hgnc-human-genes.belns\"',\n",
       " 'DEFINE ANNOTATION CellLocation AS LIST {\"cell nucleus\", \"cytoplasm\", \"endoplasmic reticulum\"}',\n",
       " 'SET Citation = {\"PubMed\", \"\", \"PubMedID\"}',\n",
       " 'SET Evidence = {The kinase activity of PI3k causes the increased abundance of AKT serine/threonine kinase 1 and AKT serine/threonine kinase 2 in the cytoplasm, but only the increased expression of AKT serine/threonine kinase 1 in the endoplasmic reticulum. Additionally, the abundance of AKT serine/threonine kinase 1 and AKT serine/threonine kinase 2 were found to be positively correlated in the cell nuclei. AKT serine/threonine kinase 2 increases GSK3 Beta in all of the nuclei, cytoplasm, and ER.}',\n",
       " 'SET CellLocation = \"cytoplasm\"',\n",
       " 'kin(p(HGNC:PIK3CA)) increases p(HGNC:AKT1)',\n",
       " 'kin(p(HGNC:PIK3CA)) increases p(HGNC:AKT2)',\n",
       " 'SET CellLocation = \"endoplasmic reticulum\"',\n",
       " 'kin(p(HGNC:PIK3CA)) increases p(HGNC:AKT1)',\n",
       " 'SET CellLocation = \"cell nucleus\"',\n",
       " 'p(HGNC:AKT1) positiveCorrelation p(HGNC:AKT2)',\n",
       " 'SET CellLocation = {\"cell nucleus\", \"cytoplasm\", \"endoplasmic reticulum\"}',\n",
       " 'p(HGNC:AKT2) increases p(HGNC:GSK3B)']"
      ]
     },
     "execution_count": 23,
     "metadata": {},
     "output_type": "execute_result"
    }
   ],
   "source": [
    "statements = definition_statements + your_statements\n",
    "statements"
   ]
  },
  {
   "cell_type": "markdown",
   "metadata": {},
   "source": [
    "# Task 4\n",
    "\n",
    "This task is again about regular expressions. Return to `Reading_searching_sending.ipynb` and find your regular expressions that parse the subject, predicate, and object from a statement like `p(HGNC:AKT1) pos p(HGNC:AKT2)`\n",
    "\n",
    "## 4.1 Validating Statements\n",
    "\n",
    "Write a function `validate_bel_statement(statement, symbol2ec)` that takes a subject, predicate, object BEL statement as a string and determines if it its subject and objects are valid."
   ]
  },
  {
   "cell_type": "code",
   "execution_count": 24,
   "metadata": {
    "collapsed": false
   },
   "outputs": [
    {
     "data": {
      "text/plain": [
       "False"
      ]
     },
     "execution_count": 24,
     "metadata": {},
     "output_type": "execute_result"
    }
   ],
   "source": [
    "valid_kinase('kin(p(HGNC:PIK3CA))', symbol2ec)"
   ]
  },
  {
   "cell_type": "code",
   "execution_count": 63,
   "metadata": {
    "collapsed": true
   },
   "outputs": [],
   "source": [
    "bel_pattern = re.compile('^(?P<subject>(?P<subject_activity>\\w+)*\\(*(?P<subject_abundance_type>\\w+)\\((?P<subject_namespace>\\w+)\\:(?P<subject_protein>\\w+)\\)\\)*)\\s+(?P<relation_type>[\\w\\W]+)\\s+(?P<object>(?P<object_activity>\\w+)*\\(*(?P<object_abundance_type>\\w+)\\((?P<object_namespace>\\w+)\\:(?P<object_protein>\\w+)\\)\\)*)$')"
   ]
  },
  {
   "cell_type": "code",
   "execution_count": 47,
   "metadata": {
    "collapsed": false
   },
   "outputs": [],
   "source": [
    "def validate_bel_statement(statement, symbol2ec_instance):\n",
    "    \"\"\"\n",
    "    Validate the syntax and semantics of a relation\n",
    "    :param relation: a BEL relation\n",
    "    :type relation: str\n",
    "    :rtype: bool\n",
    "    \"\"\"\n",
    "    bel_re = bel_pattern.match(statement)\n",
    "    if not bel_re:\n",
    "        return False\n",
    "    dct_bel = bel_re.groupdict()\n",
    "    \n",
    "    return_cond = False\n",
    "    if dct_bel['subject_namespace'] == 'HGNC' and dct_bel['object_namespace'] == 'HGNC':\n",
    "        return_cond = valid_hgnc(dct_bel['subject_protein'], symbol2ec_instance)\n",
    "        return_cond = valid_hgnc(dct_bel['object_protein'], symbol2ec_instance)\n",
    "        if dct_bel['subject_activity'] == 'kin':\n",
    "            return_cond = valid_kinase(dct_bel['subject_protein'], symbol2ec_instance)\n",
    "        elif dct_bel['object_activity'] == 'kin':\n",
    "            return_cond = valid_kinase(dct_bel['object_protein'], symbol2ec_instance)\n",
    "    return return_cond"
   ]
  },
  {
   "cell_type": "code",
   "execution_count": 55,
   "metadata": {
    "collapsed": true
   },
   "outputs": [],
   "source": [
    "valid_relations = {\n",
    "    'increases',\n",
    "    'decreases',\n",
    "    'directlyIncreases',\n",
    "    'directlyDecreases',\n",
    "    'positiveCorrelation',\n",
    "    'negativeCorrelation',\n",
    "}"
   ]
  },
  {
   "cell_type": "code",
   "execution_count": null,
   "metadata": {
    "collapsed": true
   },
   "outputs": [],
   "source": [
    "bel_pattern = re.compile('^(?P<subject>(?P<subject_activity>\\w+)*\\(*(?P<subject_abundance_type>\\w+)\\((?P<subject_namespace>\\w+)\\:(?P<subject_protein>\\w+)\\)\\)*)\\s+(?P<relation_type>[\\w\\W]+)\\s+(?P<object>(?P<object_activity>\\w+)*\\(*(?P<object_abundance_type>\\w+)\\((?P<object_namespace>\\w+)\\:(?P<object_protein>\\w+)\\)\\)*)$')"
   ]
  },
  {
   "cell_type": "code",
   "execution_count": null,
   "metadata": {
    "collapsed": true
   },
   "outputs": [],
   "source": [
    "bel_pattern_akrishta = re.compile('^(?P<subject>(?P<subject_activity>\\w+)*\\(*(?P<subject_abundance_type>\\w+)\\((?P<subject_namespace>\\w+)\\:(?P<subject_protein>\\w+)\\)\\)*)\\s+(?P<relation_type>[\\w\\W]+)\\s+(?P<object>(?P<object_activity>\\w+)*\\(*(?P<object_abundance_type>\\w+)\\((?P<object_namespace>\\w+)\\:(?P<object_protein>\\w+)\\)\\)*)$')"
   ]
  },
  {
   "cell_type": "code",
   "execution_count": 56,
   "metadata": {
    "collapsed": false
   },
   "outputs": [],
   "source": [
    "import logging\n",
    "\n",
    "log = logging.getLogger(__name__)\n",
    "\n",
    "def validate_bel_statement(statement, symbol2ec_instance):\n",
    "    \"\"\"\n",
    "    Validate the syntax and semantics of a relation\n",
    "    :param relation: a BEL relation\n",
    "    :type relation: str\n",
    "    :rtype: bool\n",
    "    \"\"\"\n",
    "    mr = bel_pattern.match(statement)\n",
    "    if not bel_re:\n",
    "        log.warning('No valid statement')\n",
    "        return False\n",
    "    mrg = mr.groupdict()\n",
    "    \n",
    "    if not valid_hgnc(mrg['sp'], symbol2ec_instance):\n",
    "        return False\n",
    "    \n",
    "    if mrg['sp'] is None and mrg['sk'] is None:\n",
    "        log.warning('No valid subject')\n",
    "        return False\n",
    "    \n",
    "    if mrg['op'] is None and mrg['ok'] is None:\n",
    "        log.warning('No valid obbject')\n",
    "        return False\n",
    "    \n",
    "    if mrg['sk'] is None:\n",
    "        if not valid_hgnc(mrg['sp'], symbol2ec_instance):\n",
    "            return False\n",
    "    else:\n",
    "        if not valid_kinase(mrg['sk'], symbol2ec_instance):\n",
    "            return False\n",
    "    \n",
    "    if mrg['ok'] is None:\n",
    "        if not valid_hgnc(mrg['op'], symbol2ec_instance):\n",
    "            log.warning('Semantically invalid subject')\n",
    "            return False\n",
    "    else:\n",
    "        if not valid_kinase(mrg['ok'], symbol2ec_instance):\n",
    "            log.warning('Semantically invalid object')\n",
    "            return False\n",
    "    \n",
    "    if mgr['relation'] not in valid_relations:\n",
    "        log.warning('Invalid relation')\n",
    "        return False\n",
    "    \n",
    "    return True"
   ]
  },
  {
   "cell_type": "markdown",
   "metadata": {},
   "source": [
    "another solutions:"
   ]
  },
  {
   "cell_type": "code",
   "execution_count": 42,
   "metadata": {
    "collapsed": false
   },
   "outputs": [
    {
     "data": {
      "text/plain": [
       "{'kin': 'ABC', 'prot': None}"
      ]
     },
     "execution_count": 42,
     "metadata": {},
     "output_type": "execute_result"
    }
   ],
   "source": [
    "match_both = re.compile('(p\\(HGNC:(?P<prot>\\w+)\\))|(kin\\(p\\(HGNC:(?P<kin>\\w+)\\))\\)')\n",
    "match_both.match('kin(p(HGNC:ABC))').groupdict()"
   ]
  },
  {
   "cell_type": "code",
   "execution_count": 46,
   "metadata": {
    "collapsed": false
   },
   "outputs": [
    {
     "data": {
      "text/plain": [
       "('A', 'Bdd', 'dd', 'C')"
      ]
     },
     "execution_count": 46,
     "metadata": {},
     "output_type": "execute_result"
    }
   ],
   "source": [
    "re.search('(A)\\s+(B(d*))\\s+(C)', 'A Bdd C').groups()"
   ]
  },
  {
   "cell_type": "markdown",
   "metadata": {},
   "source": [
    "## 4.2 Validating Your Statements\n",
    "\n",
    "Run this cell to validate the BEL statements you've written."
   ]
  },
  {
   "cell_type": "code",
   "execution_count": 26,
   "metadata": {
    "collapsed": false,
    "scrolled": false
   },
   "outputs": [
    {
     "name": "stdout",
     "output_type": "stream",
     "text": [
      "Not matched, so...\n",
      "SET Citation = {\"PubMed\", \"\", \"PubMedID\"} is invalid\n",
      "Not matched, so...\n",
      "SET Evidence = {The kinase activity of PI3k causes the increased abundance of AKT serine/threonine kinase 1 and AKT serine/threonine kinase 2 in the cytoplasm, but only the increased expression of AKT serine/threonine kinase 1 in the endoplasmic reticulum. Additionally, the abundance of AKT serine/threonine kinase 1 and AKT serine/threonine kinase 2 were found to be positively correlated in the cell nuclei. AKT serine/threonine kinase 2 increases GSK3 Beta in all of the nuclei, cytoplasm, and ER.} is invalid\n",
      "Not matched, so...\n",
      "SET CellLocation = \"cytoplasm\" is invalid\n",
      "kin(p(HGNC:PIK3CA)) increases p(HGNC:AKT1) is valid\n",
      "kin(p(HGNC:PIK3CA)) increases p(HGNC:AKT2) is valid\n",
      "Not matched, so...\n",
      "SET CellLocation = \"endoplasmic reticulum\" is invalid\n",
      "kin(p(HGNC:PIK3CA)) increases p(HGNC:AKT1) is valid\n",
      "Not matched, so...\n",
      "SET CellLocation = \"cell nucleus\" is invalid\n",
      "p(HGNC:AKT1) positiveCorrelation p(HGNC:AKT2) is valid\n",
      "Not matched, so...\n",
      "SET CellLocation = {\"cell nucleus\", \"cytoplasm\", \"endoplasmic reticulum\"} is invalid\n",
      "p(HGNC:AKT2) increases p(HGNC:GSK3B) is valid\n"
     ]
    }
   ],
   "source": [
    "for statement in your_statements:\n",
    "    valid = validate_bel_statement(statement, symbol2ec)\n",
    "    print('{} is {}valid'.format(statement, '' if valid else 'in'))"
   ]
  },
  {
   "cell_type": "markdown",
   "metadata": {},
   "source": [
    "## 4.3 Visualization\n",
    "\n",
    "Use `pybel` to visualize the network."
   ]
  },
  {
   "cell_type": "code",
   "execution_count": 27,
   "metadata": {
    "collapsed": false
   },
   "outputs": [
    {
     "name": "stdout",
     "output_type": "stream",
     "text": [
      "PyBEL not installed\n"
     ]
    }
   ],
   "source": [
    "try:\n",
    "    import pybel\n",
    "    import networkx\n",
    "    \n",
    "    g = pybel.from_bel(statements)\n",
    "    nx.draw_spring(g, with_labels=True)\n",
    "except:\n",
    "    print('PyBEL not installed')"
   ]
  },
  {
   "cell_type": "code",
   "execution_count": 28,
   "metadata": {
    "collapsed": false
   },
   "outputs": [
    {
     "name": "stdout",
     "output_type": "stream",
     "text": [
      "Variable                 Type             Data/Info\n",
      "---------------------------------------------------\n",
      "base                     str              /Users/alex/bit/bug-free-eureka\n",
      "bel2dict                 function         <function bel2dict at 0x1225b7a60>\n",
      "current_dct              dict             n=9\n",
      "data_path                str              /Users/alex/bit/bug-free-<...>02/hgnc_complete_set.json\n",
      "definition_statements    list             n=2\n",
      "df_hgnc                  DataFrame                         _version<...>[41049 rows x 50 columns]\n",
      "df_hgnc_sliced           DataFrame                    symbol       <...>n[41049 rows x 2 columns]\n",
      "dg_bel                   DiGraph          \n",
      "enzyme_ids               float            nan\n",
      "f                        TextIOWrapper    <_io.TextIOWrapper name='<...>ode='r' encoding='UTF-8'>\n",
      "get_symbol               function         <function get_symbol at 0x11f5c4e18>\n",
      "hgnc_json                dict             n=2\n",
      "i                        str              object\n",
      "idx                      int64            41048\n",
      "json                     module           <module 'json' from '/Use<...>hon3.5/json/__init__.py'>\n",
      "k                        str              RNA5SP221\n",
      "nx                       module           <module 'networkx' from '<...>es/networkx/__init__.py'>\n",
      "os                       module           <module 'os' from '/Users<...>nda/lib/python3.5/os.py'>\n",
      "pd                       module           <module 'pandas' from '/U<...>ages/pandas/__init__.py'>\n",
      "re                       module           <module 're' from '/Users<...>nda/lib/python3.5/re.py'>\n",
      "statement                str              p(HGNC:AKT2) increases p(HGNC:GSK3B)\n",
      "statements               list             n=13\n",
      "statements_to_graph      list             n=5\n",
      "symbol                   str              ZZZ3\n",
      "symbol2ec                dict             n=41041\n",
      "time                     module           <module 'time' (built-in)>\n",
      "v                        int              4\n",
      "valid                    bool             True\n",
      "valid_hgnc               function         <function valid_hgnc at 0x11f5c4048>\n",
      "valid_kinase             function         <function valid_kinase at 0x11f5c49d8>\n",
      "validate_bel_statement   function         <function validate_bel_statement at 0x122652730>\n",
      "validate_bel_term        function         <function validate_bel_term at 0x11f5c4f28>\n",
      "your_statements          list             n=11\n"
     ]
    }
   ],
   "source": [
    "%whos"
   ]
  },
  {
   "cell_type": "markdown",
   "metadata": {},
   "source": [
    "## Hometask: Generating a graph"
   ]
  },
  {
   "cell_type": "code",
   "execution_count": 16,
   "metadata": {
    "collapsed": true
   },
   "outputs": [],
   "source": [
    "import networkx as nx\n",
    "%matplotlib inline"
   ]
  },
  {
   "cell_type": "code",
   "execution_count": 17,
   "metadata": {
    "collapsed": true
   },
   "outputs": [],
   "source": [
    "pattern = re.compile('^(?P<subject>(?P<subject_activity>\\w+)*\\(*(?P<subject_abundance_type>\\w+)\\((?P<subject_namespace>\\w+)\\:(?P<subject_protein>\\w+)\\)\\)*)\\s+(?P<relation_type>[\\w\\W]+)\\s+(?P<object>(?P<object_activity>\\w+)*\\(*(?P<object_abundance_type>\\w+)\\((?P<object_namespace>\\w+)\\:(?P<object_protein>\\w+)\\)\\)*)$')\n",
    "def bel2dict(statement):\n",
    "    if pattern.match(statement) is not None:\n",
    "        dct_regex_eval = pattern.match(statement).groupdict()\n",
    "        return dct_regex_eval"
   ]
  },
  {
   "cell_type": "code",
   "execution_count": 18,
   "metadata": {
    "collapsed": true
   },
   "outputs": [],
   "source": [
    "statements_to_graph = [\n",
    "    'kin(p(HGNC:PIK3CA)) increases p(HGNC:AKT1)',\n",
    "    'kin(p(HGNC:PIK3CA)) increases p(HGNC:AKT2)',\n",
    "    'kin(p(HGNC:PIK3CA)) increases p(HGNC:AKT1)',\n",
    "    'p(HGNC:AKT1) positiveCorrelation p(HGNC:AKT2)',\n",
    "    'p(HGNC:AKT2) increases p(HGNC:GSK3B)',\n",
    "]"
   ]
  },
  {
   "cell_type": "code",
   "execution_count": 30,
   "metadata": {
    "collapsed": false
   },
   "outputs": [
    {
     "data": {
      "text/plain": [
       "{'object_abundance_type': 'p',\n",
       " 'object_activity': None,\n",
       " 'object_namespace': 'HGNC',\n",
       " 'object_protein': 'AKT1',\n",
       " 'relation_type': 'increases',\n",
       " 'subject_abundance_type': 'p',\n",
       " 'subject_activity': 'kin',\n",
       " 'subject_namespace': 'HGNC',\n",
       " 'subject_protein': 'PIK3CA'}"
      ]
     },
     "execution_count": 30,
     "metadata": {},
     "output_type": "execute_result"
    }
   ],
   "source": [
    "bel2dict(statements_to_graph[0])"
   ]
  },
  {
   "cell_type": "code",
   "execution_count": 59,
   "metadata": {
    "collapsed": false
   },
   "outputs": [],
   "source": [
    "dg_bel = nx.MultiDiGraph()\n",
    "for statement in statements_to_graph:\n",
    "    current_dct = bel2dict(statement)\n",
    "    for i in ['subject', 'object']:\n",
    "        dg_bel.add_node(current_dct['{}_protein'.format(i)],activity=current_dct['{}_activity'.format(i)],ab_type=current_dct['{}_abundance_type'.format(i)])\n",
    "    if current_dct['relation_type'] == 'positiveCorrelation':\n",
    "        dg_bel.add_edge(current_dct['subject_protein'], current_dct['object_protein'], relation=current_dct['relation_type'])\n",
    "        dg_bel.add_edge(current_dct['object_protein'], current_dct['subject_protein'], relation=current_dct['relation_type'])\n",
    "    else:\n",
    "        dg_bel.add_edge(current_dct['subject_protein'], current_dct['object_protein'], relation=current_dct['relation_type'])"
   ]
  },
  {
   "cell_type": "code",
   "execution_count": 50,
   "metadata": {
    "collapsed": false
   },
   "outputs": [
    {
     "data": {
      "text/plain": [
       "[('GSK3B', {'ab_type': 'p', 'activity': None}),\n",
       " ('PIK3CA', {'ab_type': 'p', 'activity': 'kin'}),\n",
       " ('AKT2', {'ab_type': 'p', 'activity': None}),\n",
       " ('AKT1', {'ab_type': 'p', 'activity': None})]"
      ]
     },
     "execution_count": 50,
     "metadata": {},
     "output_type": "execute_result"
    }
   ],
   "source": [
    "dg_bel.nodes(data=True)"
   ]
  },
  {
   "cell_type": "code",
   "execution_count": 51,
   "metadata": {
    "collapsed": false
   },
   "outputs": [
    {
     "data": {
      "text/plain": [
       "[('PIK3CA', 'AKT2', {'relation': 'increases'}),\n",
       " ('PIK3CA', 'AKT1', {'relation': 'increases'}),\n",
       " ('AKT2', 'GSK3B', {'relation': 'increases'}),\n",
       " ('AKT2', 'AKT1', {'relation': 'positiveCorrelation'}),\n",
       " ('AKT1', 'AKT2', {'relation': 'positiveCorrelation'})]"
      ]
     },
     "execution_count": 51,
     "metadata": {},
     "output_type": "execute_result"
    }
   ],
   "source": [
    "dg_bel.edges(data=True)"
   ]
  },
  {
   "cell_type": "code",
   "execution_count": 60,
   "metadata": {
    "collapsed": false,
    "scrolled": false
   },
   "outputs": [
    {
     "data": {
      "image/png": "[encoded data removed]",
      "text/plain": [
       "<matplotlib.figure.Figure at 0x123856d68>"
      ]
     },
     "metadata": {},
     "output_type": "display_data"
    }
   ],
   "source": [
    "nx.draw(dg_bel, with_labels=True)"
   ]
  },
  {
   "cell_type": "markdown",
   "metadata": {},
   "source": [
    "1. encode as a graph\n",
    "2. transcription factor can bind: often bind to several genes, can activate them at once\n",
    " - TP increases abundance of RNA of protein A and RNA of protein B;\n",
    " - and here there is a modification"
   ]
  },
  {
   "cell_type": "markdown",
   "metadata": {},
   "source": [
    "- nested statements:\n",
    "    - split every statement into single statements"
   ]
  },
  {
   "cell_type": "markdown",
   "metadata": {},
   "source": [
    "## Work in class"
   ]
  },
  {
   "cell_type": "code",
   "execution_count": 57,
   "metadata": {
    "collapsed": true
   },
   "outputs": [],
   "source": [
    "import networkx as nx"
   ]
  },
  {
   "cell_type": "code",
   "execution_count": 64,
   "metadata": {
    "collapsed": false
   },
   "outputs": [
    {
     "ename": "NameError",
     "evalue": "name 'bel_re' is not defined",
     "output_type": "error",
     "traceback": [
      "\u001b[0;31m---------------------------------------------------------------------------\u001b[0m",
      "\u001b[0;31mNameError\u001b[0m                                 Traceback (most recent call last)",
      "\u001b[0;32m<ipython-input-64-27b124a9aa12>\u001b[0m in \u001b[0;36m<module>\u001b[0;34m()\u001b[0m\n\u001b[1;32m      1\u001b[0m \u001b[0mG\u001b[0m \u001b[0;34m=\u001b[0m \u001b[0mnx\u001b[0m\u001b[0;34m.\u001b[0m\u001b[0mMultiDiGraph\u001b[0m\u001b[0;34m(\u001b[0m\u001b[0;34m)\u001b[0m\u001b[0;34m\u001b[0m\u001b[0m\n\u001b[1;32m      2\u001b[0m \u001b[0;34m\u001b[0m\u001b[0m\n\u001b[0;32m----> 3\u001b[0;31m \u001b[0;32mif\u001b[0m \u001b[0mvalidate_bel_statement\u001b[0m\u001b[0;34m(\u001b[0m\u001b[0mstatements_to_graph\u001b[0m\u001b[0;34m[\u001b[0m\u001b[0;36m0\u001b[0m\u001b[0;34m]\u001b[0m\u001b[0;34m,\u001b[0m \u001b[0msymbol2ec\u001b[0m\u001b[0;34m)\u001b[0m\u001b[0;34m:\u001b[0m\u001b[0;34m\u001b[0m\u001b[0m\n\u001b[0m\u001b[1;32m      4\u001b[0m     \u001b[0mmrg\u001b[0m \u001b[0;34m=\u001b[0m \u001b[0mbel_pattern\u001b[0m\u001b[0;34m.\u001b[0m\u001b[0mmatch\u001b[0m\u001b[0;34m(\u001b[0m\u001b[0mstatement\u001b[0m\u001b[0;34m)\u001b[0m\u001b[0;34m.\u001b[0m\u001b[0mgroupdict\u001b[0m\u001b[0;34m(\u001b[0m\u001b[0;34m)\u001b[0m\u001b[0;34m\u001b[0m\u001b[0m\n\u001b[1;32m      5\u001b[0m     \u001b[0mprint\u001b[0m\u001b[0;34m(\u001b[0m\u001b[0mmrg\u001b[0m\u001b[0;34m)\u001b[0m\u001b[0;34m\u001b[0m\u001b[0m\n",
      "\u001b[0;32m<ipython-input-56-538f8dd88eb4>\u001b[0m in \u001b[0;36mvalidate_bel_statement\u001b[0;34m(statement, symbol2ec_instance)\u001b[0m\n\u001b[1;32m     11\u001b[0m     \"\"\"\n\u001b[1;32m     12\u001b[0m     \u001b[0mmr\u001b[0m \u001b[0;34m=\u001b[0m \u001b[0mbel_pattern\u001b[0m\u001b[0;34m.\u001b[0m\u001b[0mmatch\u001b[0m\u001b[0;34m(\u001b[0m\u001b[0mstatement\u001b[0m\u001b[0;34m)\u001b[0m\u001b[0;34m\u001b[0m\u001b[0m\n\u001b[0;32m---> 13\u001b[0;31m     \u001b[0;32mif\u001b[0m \u001b[0;32mnot\u001b[0m \u001b[0mbel_re\u001b[0m\u001b[0;34m:\u001b[0m\u001b[0;34m\u001b[0m\u001b[0m\n\u001b[0m\u001b[1;32m     14\u001b[0m         \u001b[0;32mreturn\u001b[0m \u001b[0;32mFalse\u001b[0m\u001b[0;34m\u001b[0m\u001b[0m\n\u001b[1;32m     15\u001b[0m     \u001b[0mmrg\u001b[0m \u001b[0;34m=\u001b[0m \u001b[0mmr\u001b[0m\u001b[0;34m.\u001b[0m\u001b[0mgroupdict\u001b[0m\u001b[0;34m(\u001b[0m\u001b[0;34m)\u001b[0m\u001b[0;34m\u001b[0m\u001b[0m\n",
      "\u001b[0;31mNameError\u001b[0m: name 'bel_re' is not defined"
     ]
    }
   ],
   "source": [
    "G = nx.MultiDiGraph()\n",
    "\n",
    "if validate_bel_statement(statements_to_graph[0], symbol2ec):\n",
    "    mrg = bel_pattern.match(statement).groupdict()\n",
    "    print(mrg)\n",
    "    \n",
    "    rel = mrg['relation']\n",
    "    \n",
    "    if mrg['sk'] is N\n",
    "    sub_name = \n",
    "    obj_name = \n",
    "    \n",
    "    \n",
    "    G.add_node(sub_name)\n",
    "    G.add_node(obj_name)\n",
    "    G.add_edge(sub_name, obj_name, rel='rel')\n",
    "# # take my_rel and put nodes and edge in this graph"
   ]
  },
  {
   "cell_type": "code",
   "execution_count": null,
   "metadata": {
    "collapsed": true
   },
   "outputs": [],
   "source": []
  }
 ],
 "metadata": {
  "kernelspec": {
   "display_name": "Python 3",
   "language": "python",
   "name": "python3"
  },
  "language_info": {
   "codemirror_mode": {
    "name": "ipython",
    "version": 3
   },
   "file_extension": ".py",
   "mimetype": "text/x-python",
   "name": "python",
   "nbconvert_exporter": "python",
   "pygments_lexer": "ipython3",
   "version": "3.5.2"
  }
 },
 "nbformat": 4,
 "nbformat_minor": 1
}
